{
 "cells": [
  {
   "cell_type": "code",
   "execution_count": 90,
   "id": "9d279a99",
   "metadata": {},
   "outputs": [
    {
     "data": {
      "text/plain": [
       "<AxesSubplot:xlabel='x', ylabel='y'>"
      ]
     },
     "execution_count": 90,
     "metadata": {},
     "output_type": "execute_result"
    },
    {
     "data": {
      "image/png": "[encoded data removed]",
      "text/plain": [
       "<Figure size 432x288 with 1 Axes>"
      ]
     },
     "metadata": {
      "needs_background": "light"
     },
     "output_type": "display_data"
    }
   ],
   "source": [
    "import numpy as np\n",
    "import pandas as pd\n",
    "import matplotlib.pyplot as plt\n",
    "size = 300\n",
    "X = np.random.rand(size)*5-2.5\n",
    "w4, w3, w2, w1, w0 = 1, 2, 1, -4, 2\n",
    "y = w4*(X**4) + w3*(X**3) + w2*(X**2) + w1*X + w0 + np.random.randn(size)*8-4\n",
    "df = pd.DataFrame({'x': X, 'y': y})\n",
    "df.to_csv('dane_do_regresji.csv',index=None)\n",
    "df.plot.scatter(x='x',y='y')"
   ]
  },
  {
   "cell_type": "code",
   "execution_count": 91,
   "id": "90d83674",
   "metadata": {},
   "outputs": [],
   "source": [
    "from sklearn.model_selection import train_test_split\n",
    "X_train, X_test, y_train, y_test = train_test_split(df[['x']], df[['y']], test_size= 0.2, random_state=42)"
   ]
  },
  {
   "cell_type": "code",
   "execution_count": 92,
   "id": "8d398366",
   "metadata": {},
   "outputs": [
    {
     "data": {
      "text/plain": [
       "LinearRegression()"
      ]
     },
     "execution_count": 92,
     "metadata": {},
     "output_type": "execute_result"
    }
   ],
   "source": [
    "from sklearn.linear_model import LinearRegression\n",
    "lin_reg = LinearRegression()\n",
    "lin_reg.fit(X_train, y_train)"
   ]
  },
  {
   "cell_type": "code",
   "execution_count": 93,
   "id": "cf32b8d1",
   "metadata": {},
   "outputs": [
    {
     "data": {
      "text/plain": [
       "KNeighborsRegressor(n_neighbors=3)"
      ]
     },
     "execution_count": 93,
     "metadata": {},
     "output_type": "execute_result"
    }
   ],
   "source": [
    "import sklearn.neighbors\n",
    "knn_3_reg = sklearn.neighbors.KNeighborsRegressor(n_neighbors=3)\n",
    "knn_3_reg .fit(X_train, y_train)"
   ]
  },
  {
   "cell_type": "code",
   "execution_count": 94,
   "id": "c54adf07",
   "metadata": {},
   "outputs": [
    {
     "data": {
      "text/plain": [
       "KNeighborsRegressor()"
      ]
     },
     "execution_count": 94,
     "metadata": {},
     "output_type": "execute_result"
    }
   ],
   "source": [
    "knn_5_reg = sklearn.neighbors.KNeighborsRegressor(n_neighbors=5)\n",
    "knn_5_reg.fit(X_train, y_train)"
   ]
  },
  {
   "cell_type": "code",
   "execution_count": 95,
   "id": "6f026d56",
   "metadata": {},
   "outputs": [
    {
     "data": {
      "text/plain": [
       "array([[-5.54013812],\n",
       "       [-5.21417804],\n",
       "       [18.17942186],\n",
       "       [-3.63583483],\n",
       "       [-4.47917529]])"
      ]
     },
     "execution_count": 95,
     "metadata": {},
     "output_type": "execute_result"
    }
   ],
   "source": [
    "from sklearn.preprocessing import PolynomialFeatures\n",
    "poly_feature_2 = PolynomialFeatures(degree=2, include_bias=False)\n",
    "X_poly = poly_feature_2.fit_transform(X_train)\n",
    "poly_2_reg = LinearRegression()\n",
    "poly_2_reg.fit(X_poly, y_train)\n",
    "poly_2_reg.predict(poly_feature_2.fit_transform(X_test.head()))"
   ]
  },
  {
   "cell_type": "code",
   "execution_count": 96,
   "id": "b1a26f19",
   "metadata": {},
   "outputs": [
    {
     "data": {
      "text/plain": [
       "array([[-4.41095438],\n",
       "       [-0.31873993],\n",
       "       [12.10569094],\n",
       "       [ 2.65183186],\n",
       "       [ 1.276573  ]])"
      ]
     },
     "execution_count": 96,
     "metadata": {},
     "output_type": "execute_result"
    }
   ],
   "source": [
    "poly_feature_3 = PolynomialFeatures(degree=3, include_bias=False)\n",
    "X_poly = poly_feature_3.fit_transform(X_train)\n",
    "poly_3_reg = LinearRegression()\n",
    "poly_3_reg.fit(X_poly, y_train)\n",
    "poly_3_reg.predict(poly_feature_3.fit_transform(X_test.head()))"
   ]
  },
  {
   "cell_type": "code",
   "execution_count": 97,
   "id": "95fd9935",
   "metadata": {},
   "outputs": [
    {
     "data": {
      "text/plain": [
       "array([[-0.61727814],\n",
       "       [ 1.20799949],\n",
       "       [14.5538217 ],\n",
       "       [ 1.98924169],\n",
       "       [ 1.65109214]])"
      ]
     },
     "execution_count": 97,
     "metadata": {},
     "output_type": "execute_result"
    }
   ],
   "source": [
    "poly_feature_4 = PolynomialFeatures(degree=4, include_bias=False)\n",
    "X_poly = poly_feature_4.fit_transform(X_train)\n",
    "poly_4_reg = LinearRegression()\n",
    "poly_4_reg.fit(X_poly, y_train)\n",
    "poly_4_reg.predict(poly_feature_4.fit_transform(X_test.head()))"
   ]
  },
  {
   "cell_type": "code",
   "execution_count": 98,
   "id": "578c7067",
   "metadata": {},
   "outputs": [
    {
     "data": {
      "text/plain": [
       "array([[-0.47869305],\n",
       "       [ 1.67465028],\n",
       "       [14.6593191 ],\n",
       "       [ 2.40246509],\n",
       "       [ 2.11510966]])"
      ]
     },
     "execution_count": 98,
     "metadata": {},
     "output_type": "execute_result"
    }
   ],
   "source": [
    "poly_feature_5 = PolynomialFeatures(degree=5, include_bias=False)\n",
    "X_poly = poly_feature_5.fit_transform(X_train)\n",
    "poly_5_reg = LinearRegression()\n",
    "poly_5_reg.fit(X_poly, y_train)\n",
    "poly_5_reg.predict(poly_feature_5.fit_transform(X_test.head()))"
   ]
  },
  {
   "cell_type": "code",
   "execution_count": 99,
   "id": "155bae15",
   "metadata": {},
   "outputs": [],
   "source": [
    "from sklearn.metrics import mean_squared_error"
   ]
  },
  {
   "cell_type": "code",
   "execution_count": 100,
   "id": "595e7809",
   "metadata": {},
   "outputs": [],
   "source": [
    "df  = pd.DataFrame({'train_mse':[mean_squared_error(y_train, lin_reg.predict(X_train)),\n",
    "                                mean_squared_error(y_train, knn_3_reg.predict(X_train)),\n",
    "                                mean_squared_error(y_train, knn_5_reg.predict(X_train)),\n",
    "                                mean_squared_error(y_train, poly_2_reg.predict(poly_feature_2.fit_transform(X_train))),\n",
    "                                mean_squared_error(y_train, poly_3_reg.predict(poly_feature_3.fit_transform(X_train))),\n",
    "                                mean_squared_error(y_train, poly_4_reg.predict(poly_feature_4.fit_transform(X_train))),\n",
    "                                mean_squared_error(y_train, poly_5_reg.predict(poly_feature_5.fit_transform(X_train)))],\n",
    "                    'test_mse':[mean_squared_error(y_test, lin_reg.predict(X_test)),\n",
    "                                mean_squared_error(y_test, knn_3_reg.predict(X_test)),\n",
    "                                mean_squared_error(y_test, knn_5_reg.predict(X_test)),\n",
    "                                mean_squared_error(y_test, poly_2_reg.predict(poly_feature_2.fit_transform(X_test))),\n",
    "                                mean_squared_error(y_test, poly_3_reg.predict(poly_feature_3.fit_transform(X_test))),\n",
    "                                mean_squared_error(y_test, poly_4_reg.predict(poly_feature_4.fit_transform(X_test))),\n",
    "                                mean_squared_error(y_test, poly_5_reg.predict(poly_feature_5.fit_transform(X_test)))]\n",
    "                    })\n"
   ]
  },
  {
   "cell_type": "code",
   "execution_count": 101,
   "id": "5e1fd12d",
   "metadata": {},
   "outputs": [
    {
     "data": {
      "text/html": [
       "<div>\n",
       "<style scoped>\n",
       "    .dataframe tbody tr th:only-of-type {\n",
       "        vertical-align: middle;\n",
       "    }\n",
       "\n",
       "    .dataframe tbody tr th {\n",
       "        vertical-align: top;\n",
       "    }\n",
       "\n",
       "    .dataframe thead th {\n",
       "        text-align: right;\n",
       "    }\n",
       "</style>\n",
       "<table border=\"1\" class=\"dataframe\">\n",
       "  <thead>\n",
       "    <tr style=\"text-align: right;\">\n",
       "      <th></th>\n",
       "      <th>train_mse</th>\n",
       "      <th>test_mse</th>\n",
       "    </tr>\n",
       "  </thead>\n",
       "  <tbody>\n",
       "    <tr>\n",
       "      <th>0</th>\n",
       "      <td>239.215090</td>\n",
       "      <td>293.002140</td>\n",
       "    </tr>\n",
       "    <tr>\n",
       "      <th>1</th>\n",
       "      <td>43.396032</td>\n",
       "      <td>92.069717</td>\n",
       "    </tr>\n",
       "    <tr>\n",
       "      <th>2</th>\n",
       "      <td>53.070157</td>\n",
       "      <td>86.189167</td>\n",
       "    </tr>\n",
       "    <tr>\n",
       "      <th>3</th>\n",
       "      <td>101.244964</td>\n",
       "      <td>122.758076</td>\n",
       "    </tr>\n",
       "    <tr>\n",
       "      <th>4</th>\n",
       "      <td>73.110401</td>\n",
       "      <td>70.561330</td>\n",
       "    </tr>\n",
       "    <tr>\n",
       "      <th>5</th>\n",
       "      <td>62.121043</td>\n",
       "      <td>72.332950</td>\n",
       "    </tr>\n",
       "    <tr>\n",
       "      <th>6</th>\n",
       "      <td>61.927780</td>\n",
       "      <td>72.182553</td>\n",
       "    </tr>\n",
       "  </tbody>\n",
       "</table>\n",
       "</div>"
      ],
      "text/plain": [
       "    train_mse    test_mse\n",
       "0  239.215090  293.002140\n",
       "1   43.396032   92.069717\n",
       "2   53.070157   86.189167\n",
       "3  101.244964  122.758076\n",
       "4   73.110401   70.561330\n",
       "5   62.121043   72.332950\n",
       "6   61.927780   72.182553"
      ]
     },
     "execution_count": 101,
     "metadata": {},
     "output_type": "execute_result"
    }
   ],
   "source": [
    "df"
   ]
  },
  {
   "cell_type": "code",
   "execution_count": 102,
   "id": "fb41a5b1",
   "metadata": {},
   "outputs": [],
   "source": [
    "import pickle\n",
    "filehandler = open(\"mse.pkl\",\"wb\")\n",
    "pickle.dump(df,filehandler)\n",
    "file.close()"
   ]
  },
  {
   "cell_type": "code",
   "execution_count": 103,
   "id": "7aafa782",
   "metadata": {},
   "outputs": [],
   "source": [
    "lista = [(lin_reg, None), (knn_3_reg, None), (knn_5_reg, None), (poly_2_reg, poly_feature_2), (poly_3_reg, poly_feature_3), (poly_4_reg, poly_feature_4),\n",
    "(poly_5_reg, poly_feature_5)]"
   ]
  },
  {
   "cell_type": "code",
   "execution_count": 104,
   "id": "3936fdf7",
   "metadata": {},
   "outputs": [],
   "source": [
    "filehandler = open(\"reg.pkl\",\"wb\")\n",
    "pickle.dump(lista,filehandler)\n",
    "file.close()"
   ]
  }
 ],
 "metadata": {
  "kernelspec": {
   "display_name": "Python 3 (ipykernel)",
   "language": "python",
   "name": "python3"
  },
  "language_info": {
   "codemirror_mode": {
    "name": "ipython",
    "version": 3
   },
   "file_extension": ".py",
   "mimetype": "text/x-python",
   "name": "python",
   "nbconvert_exporter": "python",
   "pygments_lexer": "ipython3",
   "version": "3.9.7"
  }
 },
 "nbformat": 4,
 "nbformat_minor": 5
}
