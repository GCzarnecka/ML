{
 "cells": [
  {
   "cell_type": "code",
   "execution_count": 21,
   "id": "8afaba94-00ac-4553-ba4f-5ab615323ec6",
   "metadata": {},
   "outputs": [],
   "source": [
    "import tensorflow as tf\n",
    "fashion_mnist = tf.keras.datasets.fashion_mnist\n",
    "(X_train, y_train), (X_test, y_test) = fashion_mnist.load_data()\n",
    "assert X_train.shape == (60000, 28, 28)\n",
    "assert X_test.shape == (10000, 28, 28)\n",
    "assert y_train.shape == (60000,)\n",
    "assert y_test.shape == (10000,)"
   ]
  },
  {
   "cell_type": "code",
   "execution_count": 22,
   "id": "b215a155-61dc-4f11-a289-02865a142886",
   "metadata": {},
   "outputs": [],
   "source": [
    "X_train =X_train/255\n",
    "X_test =X_test/255"
   ]
  },
  {
   "cell_type": "code",
   "execution_count": 23,
   "id": "454d2099-8947-4e6e-ae9d-100afc8fc1a3",
   "metadata": {},
   "outputs": [
    {
     "data": {
      "image/png": "[encoded data removed]",
      "text/plain": [
       "<Figure size 432x288 with 1 Axes>"
      ]
     },
     "metadata": {
      "needs_background": "light"
     },
     "output_type": "display_data"
    }
   ],
   "source": [
    "import matplotlib.pyplot as plt\n",
    "plt.imshow(X_train[142], cmap=\"binary\")\n",
    "plt.axis('off')\n",
    "plt.show()"
   ]
  },
  {
   "cell_type": "code",
   "execution_count": 24,
   "id": "bc9b3871-2f9a-46e7-9623-fbdb106bb485",
   "metadata": {},
   "outputs": [
    {
     "data": {
      "text/plain": [
       "'but'"
      ]
     },
     "execution_count": 24,
     "metadata": {},
     "output_type": "execute_result"
    }
   ],
   "source": [
    "class_names = [\"koszulka\", \"spodnie\", \"pulower\", \"sukienka\", \"kurtka\",\n",
    "               \"sandał\", \"koszula\", \"but\", \"torba\", \"kozak\"]\n",
    "class_names[y_train[142]]"
   ]
  },
  {
   "cell_type": "code",
   "execution_count": 25,
   "id": "b63f1577-4f47-4a17-907e-34ae3ca3766e",
   "metadata": {},
   "outputs": [],
   "source": [
    "import keras\n",
    "model = keras.models.Sequential()\n",
    "model.add(keras.layers.Flatten(input_shape=[28, 28]))\n",
    "model.add(keras.layers.Dense(300, activation=\"relu\"))\n",
    "model.add(keras.layers.Dense(100, activation=\"relu\"))\n",
    "model.add(keras.layers.Dense(10, activation=\"softmax\"))"
   ]
  },
  {
   "cell_type": "code",
   "execution_count": 26,
   "id": "93e4e2a2-75b5-496c-b952-868667f8be05",
   "metadata": {},
   "outputs": [
    {
     "name": "stdout",
     "output_type": "stream",
     "text": [
      "Model: \"sequential_1\"\n",
      "_________________________________________________________________\n",
      " Layer (type)                Output Shape              Param #   \n",
      "=================================================================\n",
      " flatten_1 (Flatten)         (None, 784)               0         \n",
      "                                                                 \n",
      " dense_3 (Dense)             (None, 300)               235500    \n",
      "                                                                 \n",
      " dense_4 (Dense)             (None, 100)               30100     \n",
      "                                                                 \n",
      " dense_5 (Dense)             (None, 10)                1010      \n",
      "                                                                 \n",
      "=================================================================\n",
      "Total params: 266,610\n",
      "Trainable params: 266,610\n",
      "Non-trainable params: 0\n",
      "_________________________________________________________________\n"
     ]
    },
    {
     "data": {
      "image/png": "[encoded data removed]",
      "text/plain": [
       "<IPython.core.display.Image object>"
      ]
     },
     "execution_count": 26,
     "metadata": {},
     "output_type": "execute_result"
    }
   ],
   "source": [
    "model.summary()\n",
    "tf.keras.utils.plot_model(model, \"fashion_mnist.png\", show_shapes=True)"
   ]
  },
  {
   "cell_type": "code",
   "execution_count": 27,
   "id": "7e6502c2-840c-4ca6-b0b1-7c193e52b839",
   "metadata": {},
   "outputs": [],
   "source": [
    "model.compile(loss=\"sparse_categorical_crossentropy\",\n",
    "              optimizer=\"sgd\",\n",
    "              metrics=[\"accuracy\"])"
   ]
  },
  {
   "cell_type": "code",
   "execution_count": 28,
   "id": "a347bfbc",
   "metadata": {},
   "outputs": [],
   "source": [
    "import os\n",
    "root_logdir = os.path.join(os.curdir, \"image_logs\")\n",
    "def get_run_logdir():\n",
    "    import time\n",
    "    run_id = time.strftime(\"run_%Y_%m_%d-%H_%M_%S\")\n",
    "    return os.path.join(root_logdir, run_id)\n",
    "run_logdir = get_run_logdir()\n",
    "tensorboard_cb = tf.keras.callbacks.TensorBoard(run_logdir)"
   ]
  },
  {
   "cell_type": "code",
   "execution_count": 29,
   "id": "5ea42d18",
   "metadata": {},
   "outputs": [
    {
     "name": "stdout",
     "output_type": "stream",
     "text": [
      "Epoch 1/20\n",
      "1688/1688 [==============================] - 2s 988us/step - loss: 0.7183 - accuracy: 0.7666 - val_loss: 0.5164 - val_accuracy: 0.8262\n",
      "Epoch 2/20\n",
      "1688/1688 [==============================] - 2s 935us/step - loss: 0.4868 - accuracy: 0.8321 - val_loss: 0.4592 - val_accuracy: 0.8405\n",
      "Epoch 3/20\n",
      "1688/1688 [==============================] - 2s 945us/step - loss: 0.4409 - accuracy: 0.8464 - val_loss: 0.4372 - val_accuracy: 0.8482\n",
      "Epoch 4/20\n",
      "1688/1688 [==============================] - 2s 941us/step - loss: 0.4141 - accuracy: 0.8564 - val_loss: 0.4379 - val_accuracy: 0.8390\n",
      "Epoch 5/20\n",
      "1688/1688 [==============================] - 2s 943us/step - loss: 0.3931 - accuracy: 0.8621 - val_loss: 0.4201 - val_accuracy: 0.8527\n",
      "Epoch 6/20\n",
      "1688/1688 [==============================] - 2s 960us/step - loss: 0.3779 - accuracy: 0.8680 - val_loss: 0.4011 - val_accuracy: 0.8570\n",
      "Epoch 7/20\n",
      "1688/1688 [==============================] - 2s 965us/step - loss: 0.3638 - accuracy: 0.8718 - val_loss: 0.3813 - val_accuracy: 0.8623\n",
      "Epoch 8/20\n",
      "1688/1688 [==============================] - 2s 949us/step - loss: 0.3545 - accuracy: 0.8739 - val_loss: 0.4053 - val_accuracy: 0.8545\n",
      "Epoch 9/20\n",
      "1688/1688 [==============================] - 2s 944us/step - loss: 0.3441 - accuracy: 0.8780 - val_loss: 0.3709 - val_accuracy: 0.8645\n",
      "Epoch 10/20\n",
      "1688/1688 [==============================] - 2s 965us/step - loss: 0.3349 - accuracy: 0.8815 - val_loss: 0.3541 - val_accuracy: 0.8727\n",
      "Epoch 11/20\n",
      "1688/1688 [==============================] - 2s 982us/step - loss: 0.3260 - accuracy: 0.8838 - val_loss: 0.3640 - val_accuracy: 0.8715\n",
      "Epoch 12/20\n",
      "1688/1688 [==============================] - 2s 976us/step - loss: 0.3173 - accuracy: 0.8869 - val_loss: 0.3529 - val_accuracy: 0.8750\n",
      "Epoch 13/20\n",
      "1688/1688 [==============================] - 2s 979us/step - loss: 0.3103 - accuracy: 0.8896 - val_loss: 0.3577 - val_accuracy: 0.8682\n",
      "Epoch 14/20\n",
      "1688/1688 [==============================] - 2s 973us/step - loss: 0.3036 - accuracy: 0.8909 - val_loss: 0.3522 - val_accuracy: 0.8725\n",
      "Epoch 15/20\n",
      "1688/1688 [==============================] - 2s 938us/step - loss: 0.2976 - accuracy: 0.8938 - val_loss: 0.3423 - val_accuracy: 0.8763\n",
      "Epoch 16/20\n",
      "1688/1688 [==============================] - 2s 971us/step - loss: 0.2910 - accuracy: 0.8951 - val_loss: 0.3358 - val_accuracy: 0.8778\n",
      "Epoch 17/20\n",
      "1688/1688 [==============================] - 2s 946us/step - loss: 0.2854 - accuracy: 0.8984 - val_loss: 0.3417 - val_accuracy: 0.8763\n",
      "Epoch 18/20\n",
      "1688/1688 [==============================] - 2s 958us/step - loss: 0.2803 - accuracy: 0.8990 - val_loss: 0.3294 - val_accuracy: 0.8798\n",
      "Epoch 19/20\n",
      "1688/1688 [==============================] - 2s 967us/step - loss: 0.2745 - accuracy: 0.9006 - val_loss: 0.3347 - val_accuracy: 0.8783\n",
      "Epoch 20/20\n",
      "1688/1688 [==============================] - 2s 996us/step - loss: 0.2692 - accuracy: 0.9036 - val_loss: 0.3241 - val_accuracy: 0.8802\n"
     ]
    },
    {
     "data": {
      "text/plain": [
       "<keras.callbacks.History at 0x204886bbd30>"
      ]
     },
     "execution_count": 29,
     "metadata": {},
     "output_type": "execute_result"
    }
   ],
   "source": [
    "model.fit(X_train, y_train, epochs = 20,\n",
    "                    validation_split = 0.1, callbacks=[tensorboard_cb])"
   ]
  },
  {
   "cell_type": "code",
   "execution_count": null,
   "id": "95fe3829-49c6-4a48-b55c-c501ab1cf38e",
   "metadata": {},
   "outputs": [],
   "source": []
  },
  {
   "cell_type": "code",
   "execution_count": 30,
   "id": "2fd3caa5-8efa-4680-8a27-3b402a4533a1",
   "metadata": {},
   "outputs": [
    {
     "name": "stdout",
     "output_type": "stream",
     "text": [
      "1/1 [==============================] - 0s 26ms/step\n",
      "Prediction: kozak\n",
      "Confidence: 0.99697614\n",
      "Truth: kozak\n"
     ]
    },
    {
     "data": {
      "image/png": "[encoded data removed]",
      "text/plain": [
       "<Figure size 432x288 with 1 Axes>"
      ]
     },
     "metadata": {
      "needs_background": "light"
     },
     "output_type": "display_data"
    }
   ],
   "source": [
    "import numpy as np\n",
    "image_index = np.random.randint(len(X_test))\n",
    "image = np.array([X_test[image_index]])\n",
    "confidences = model.predict(image)\n",
    "confidence = np.max(confidences[0])\n",
    "prediction = np.argmax(confidences[0])\n",
    "print(\"Prediction:\", class_names[prediction])\n",
    "print(\"Confidence:\", confidence)\n",
    "print(\"Truth:\", class_names[y_test[image_index]])\n",
    "plt.imshow(image[0], cmap=\"binary\")\n",
    "plt.axis('off')\n",
    "plt.show()"
   ]
  },
  {
   "cell_type": "code",
   "execution_count": 31,
   "id": "d8c97105-f784-4e90-9277-5a1e2ed4f6f6",
   "metadata": {},
   "outputs": [],
   "source": [
    "model.save('fashion_clf.h5')"
   ]
  },
  {
   "cell_type": "code",
   "execution_count": 32,
   "id": "97e81b71-f1fd-41c5-bc90-7a1ce396cadf",
   "metadata": {},
   "outputs": [],
   "source": [
    "#Regresja"
   ]
  },
  {
   "cell_type": "code",
   "execution_count": 33,
   "id": "fcedd7cd-2c9a-4f35-a147-3e9f2f7431a4",
   "metadata": {},
   "outputs": [],
   "source": [
    "from sklearn.datasets import fetch_california_housing\n",
    "from sklearn.model_selection import train_test_split\n",
    "from sklearn.preprocessing import StandardScaler\n",
    "housing = fetch_california_housing()"
   ]
  },
  {
   "cell_type": "code",
   "execution_count": 34,
   "id": "e5c558f2-c415-4622-97ba-021546e41456",
   "metadata": {},
   "outputs": [],
   "source": [
    "X_train_full, X_test, y_train_full, y_test = train_test_split(housing.data, housing.target, random_state=42)\n",
    "X_train, X_valid, y_train, y_valid = train_test_split(X_train_full, y_train_full, random_state=42)"
   ]
  },
  {
   "cell_type": "code",
   "execution_count": 35,
   "id": "3cd3fc1b-2819-470a-b192-1d338770de18",
   "metadata": {},
   "outputs": [],
   "source": [
    "scaler = StandardScaler()\n",
    "X_train = scaler.fit_transform(X_train)\n",
    "X_valid = scaler.transform(X_valid)\n",
    "X_test = scaler.transform(X_test)"
   ]
  },
  {
   "cell_type": "code",
   "execution_count": 36,
   "id": "d63c8d86",
   "metadata": {},
   "outputs": [],
   "source": [
    "model = keras.models.Sequential()\n",
    "model.add(keras.layers.Dense(30, activation=\"relu\"))\n",
    "model.add(keras.layers.Dense(1, activation=\"softmax\"))\n",
    "model.compile(loss=\"mean_absolute_error\", optimizer=\"sgd\")"
   ]
  },
  {
   "cell_type": "code",
   "execution_count": 37,
   "id": "57beca33-9e5b-4aef-bb01-fc857587daeb",
   "metadata": {},
   "outputs": [],
   "source": [
    "es = tf.keras.callbacks.EarlyStopping(patience=5, min_delta=0.01, verbose=1)"
   ]
  },
  {
   "cell_type": "code",
   "execution_count": 38,
   "id": "eac7b6f7",
   "metadata": {},
   "outputs": [
    {
     "name": "stdout",
     "output_type": "stream",
     "text": [
      "Epoch 1/20\n",
      "363/363 [==============================] - 0s 760us/step - loss: 1.1628 - val_loss: 1.1228\n",
      "Epoch 2/20\n",
      "363/363 [==============================] - 0s 631us/step - loss: 1.1628 - val_loss: 1.1228\n",
      "Epoch 3/20\n",
      "363/363 [==============================] - 0s 648us/step - loss: 1.1628 - val_loss: 1.1228\n",
      "Epoch 4/20\n",
      "363/363 [==============================] - 0s 660us/step - loss: 1.1628 - val_loss: 1.1228\n",
      "Epoch 5/20\n",
      "363/363 [==============================] - 0s 653us/step - loss: 1.1628 - val_loss: 1.1228\n",
      "Epoch 6/20\n",
      "363/363 [==============================] - 0s 646us/step - loss: 1.1628 - val_loss: 1.1228\n",
      "Epoch 6: early stopping\n"
     ]
    }
   ],
   "source": [
    "root_logdir = os.path.join(os.curdir, \"housing_logs\")\n",
    "run_logdir = get_run_logdir()\n",
    "tensorboard_cb = tf.keras.callbacks.TensorBoard(run_logdir)\n",
    "model.fit(X_train, y_train, epochs=20, validation_data=(\n",
    "    X_valid, y_valid), callbacks=[es, tensorboard_cb])\n",
    "model.save(\"reg_housing_1.h5\")"
   ]
  },
  {
   "cell_type": "code",
   "execution_count": 39,
   "id": "0cf8c663-2746-44ce-9e11-3a321a4de844",
   "metadata": {},
   "outputs": [
    {
     "name": "stdout",
     "output_type": "stream",
     "text": [
      "Epoch 1/20\n",
      "363/363 [==============================] - 1s 1ms/step - loss: 1.1628 - val_loss: 1.1228\n",
      "Epoch 2/20\n",
      "363/363 [==============================] - 0s 841us/step - loss: 1.1628 - val_loss: 1.1228\n",
      "Epoch 3/20\n",
      "363/363 [==============================] - 0s 857us/step - loss: 1.1628 - val_loss: 1.1228\n",
      "Epoch 4/20\n",
      "363/363 [==============================] - 0s 852us/step - loss: 1.1628 - val_loss: 1.1228\n",
      "Epoch 5/20\n",
      "363/363 [==============================] - 0s 853us/step - loss: 1.1628 - val_loss: 1.1228\n",
      "Epoch 6/20\n",
      "363/363 [==============================] - 0s 883us/step - loss: 1.1628 - val_loss: 1.1228\n",
      "Epoch 6: early stopping\n"
     ]
    }
   ],
   "source": [
    "model = keras.models.Sequential()\n",
    "model.add(keras.layers.Dense(500, activation=\"relu\"))\n",
    "model.add(keras.layers.Dense(200, activation=\"relu\"))\n",
    "model.add(keras.layers.Dense(1, activation=\"softmax\"))\n",
    "model.compile(loss=\"mean_absolute_error\", optimizer=\"sgd\")\n",
    "model.fit(X_train, y_train, epochs=20, validation_data=(\n",
    "    X_valid, y_valid), callbacks=[es, tensorboard_cb])\n",
    "model.save(\"reg_housing_2.h5\")"
   ]
  },
  {
   "cell_type": "code",
   "execution_count": 40,
   "id": "11fb1b47",
   "metadata": {},
   "outputs": [
    {
     "name": "stdout",
     "output_type": "stream",
     "text": [
      "Epoch 1/20\n",
      "363/363 [==============================] - 0s 792us/step - loss: 1.1628 - val_loss: 1.1228\n",
      "Epoch 2/20\n",
      "363/363 [==============================] - 0s 629us/step - loss: 1.1628 - val_loss: 1.1228\n",
      "Epoch 3/20\n",
      "363/363 [==============================] - 0s 653us/step - loss: 1.1628 - val_loss: 1.1228\n",
      "Epoch 4/20\n",
      "363/363 [==============================] - 0s 631us/step - loss: 1.1628 - val_loss: 1.1228\n",
      "Epoch 5/20\n",
      "363/363 [==============================] - 0s 631us/step - loss: 1.1628 - val_loss: 1.1228\n",
      "Epoch 6/20\n",
      "363/363 [==============================] - 0s 643us/step - loss: 1.1628 - val_loss: 1.1228\n",
      "Epoch 6: early stopping\n"
     ]
    }
   ],
   "source": [
    "model = keras.models.Sequential()\n",
    "model.add(keras.layers.Dense(5, activation=\"relu\"))\n",
    "model.add(keras.layers.Dense(1, activation=\"softmax\"))\n",
    "model.compile(loss=\"mean_absolute_error\", optimizer=\"sgd\")\n",
    "model.fit(X_train, y_train, epochs=20, validation_data=(\n",
    "    X_valid, y_valid), callbacks=[es, tensorboard_cb])\n",
    "model.save(\"reg_housing_3.h5\")"
   ]
  },
  {
   "cell_type": "code",
   "execution_count": null,
   "id": "ee04b0b0",
   "metadata": {},
   "outputs": [],
   "source": []
  },
  {
   "cell_type": "code",
   "execution_count": null,
   "id": "cfef3263",
   "metadata": {},
   "outputs": [],
   "source": []
  }
 ],
 "metadata": {
  "kernelspec": {
   "display_name": "Python 3 (ipykernel)",
   "language": "python",
   "name": "python3"
  },
  "language_info": {
   "codemirror_mode": {
    "name": "ipython",
    "version": 3
   },
   "file_extension": ".py",
   "mimetype": "text/x-python",
   "name": "python",
   "nbconvert_exporter": "python",
   "pygments_lexer": "ipython3",
   "version": "3.9.7"
  }
 },
 "nbformat": 4,
 "nbformat_minor": 5
}
