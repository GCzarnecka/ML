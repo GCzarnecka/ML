{
 "cells": [
  {
   "cell_type": "code",
   "execution_count": 1,
   "id": "bbf9ff86-360d-4532-a594-5c1cc3bfeb46",
   "metadata": {},
   "outputs": [],
   "source": [
    "from sklearn import datasets\n",
    "import pandas as pd\n",
    "import numpy as np\n",
    "from sklearn.model_selection import train_test_split\n",
    "data_breast_cancer = datasets.load_breast_cancer(as_frame=True)"
   ]
  },
  {
   "cell_type": "code",
   "execution_count": 2,
   "id": "946d97bd-799c-409f-a9a2-f55ff2a97b6c",
   "metadata": {},
   "outputs": [],
   "source": [
    "X_train, X_test, y_train, y_test = train_test_split(data_breast_cancer['data'][['mean texture','mean symmetry']], data_breast_cancer['target'], test_size=0.2)"
   ]
  },
  {
   "cell_type": "code",
   "execution_count": 3,
   "id": "5178c84c-b0fd-4c10-864c-e6feb000b9c8",
   "metadata": {},
   "outputs": [],
   "source": [
    "from sklearn.tree import DecisionTreeClassifier\n",
    "from sklearn.linear_model import LogisticRegression\n",
    "import sklearn.neighbors\n",
    "from sklearn.neighbors import KNeighborsClassifier\n",
    "from sklearn.metrics import accuracy_score\n",
    "from sklearn.ensemble import VotingClassifier"
   ]
  },
  {
   "cell_type": "code",
   "execution_count": 4,
   "id": "e1a3e24e-a035-40ac-b252-14f1b479ee1a",
   "metadata": {},
   "outputs": [],
   "source": [
    "tree_clf = DecisionTreeClassifier()"
   ]
  },
  {
   "cell_type": "code",
   "execution_count": 5,
   "id": "4e48c3fa-23bb-4342-ba22-879fc4c8bff6",
   "metadata": {},
   "outputs": [],
   "source": [
    "log_clf = LogisticRegression()"
   ]
  },
  {
   "cell_type": "code",
   "execution_count": 6,
   "id": "0e2e9edd-bf2f-49d4-a6a5-c93b4eb05e18",
   "metadata": {},
   "outputs": [],
   "source": [
    "knn = KNeighborsClassifier()"
   ]
  },
  {
   "cell_type": "code",
   "execution_count": 7,
   "id": "7dddd97b-33dc-415e-a2b4-4fd8801b3a3d",
   "metadata": {},
   "outputs": [],
   "source": [
    "voting_clf_hard = VotingClassifier(\n",
    "    estimators=[('tree', tree_clf), ('log', log_clf), ('knn', knn)], voting='hard')"
   ]
  },
  {
   "cell_type": "code",
   "execution_count": 8,
   "id": "1dfc791f-89c8-41cc-90d3-d2a860b1532d",
   "metadata": {},
   "outputs": [],
   "source": [
    "voting_clf_soft = VotingClassifier(\n",
    "    estimators=[('tree', tree_clf), ('log', log_clf), ('knn', knn)], voting='soft')"
   ]
  },
  {
   "cell_type": "code",
   "execution_count": 9,
   "id": "6cc38fea",
   "metadata": {},
   "outputs": [],
   "source": [
    "lista = []\n",
    "classifiers = []\n",
    "for clf in [tree_clf, log_clf, knn, voting_clf_hard, voting_clf_soft]:\n",
    "    clf.fit(X_train, y_train)\n",
    "    lista.append((\n",
    "        accuracy_score(y_train, clf.predict(X_train)), accuracy_score(y_test, clf.predict(X_test))\n",
    "    ))\n",
    "    classifiers.append(clf)"
   ]
  },
  {
   "cell_type": "code",
   "execution_count": 11,
   "id": "ea8a98d3-3ef2-4aa9-84af-aefa834352b1",
   "metadata": {},
   "outputs": [],
   "source": [
    "import pickle"
   ]
  },
  {
   "cell_type": "code",
   "execution_count": 12,
   "id": "4a3ba06b",
   "metadata": {},
   "outputs": [
    {
     "name": "stdout",
     "output_type": "stream",
     "text": [
      "[(1.0, 0.631578947368421), (0.7054945054945055, 0.6929824561403509), (0.7758241758241758, 0.6491228070175439), (0.8417582417582418, 0.6578947368421053), (0.9626373626373627, 0.6666666666666666)]\n"
     ]
    }
   ],
   "source": [
    "file = open(\"acc_vote.pkl\", 'wb')\n",
    "pickle.dump(lista, file)\n",
    "\n",
    "file = open(\"acc_vote.pkl\",'rb')\n",
    "a = pickle.load(file)\n",
    "file.close()\n",
    "print(a)"
   ]
  },
  {
   "cell_type": "code",
   "execution_count": 13,
   "id": "ae80cac2",
   "metadata": {},
   "outputs": [
    {
     "name": "stdout",
     "output_type": "stream",
     "text": [
      "[DecisionTreeClassifier(), LogisticRegression(), KNeighborsClassifier(), VotingClassifier(estimators=[('tree', DecisionTreeClassifier()),\n",
      "                             ('log', LogisticRegression()),\n",
      "                             ('knn', KNeighborsClassifier())]), VotingClassifier(estimators=[('tree', DecisionTreeClassifier()),\n",
      "                             ('log', LogisticRegression()),\n",
      "                             ('knn', KNeighborsClassifier())],\n",
      "                 voting='soft')]\n"
     ]
    }
   ],
   "source": [
    "file = open(\"vote.pkl\", 'wb')\n",
    "pickle.dump(classifiers, file)\n",
    "\n",
    "file = open(\"vote.pkl\",'rb')\n",
    "a = pickle.load(file)\n",
    "file.close()\n",
    "print(a)"
   ]
  },
  {
   "cell_type": "code",
   "execution_count": 14,
   "id": "1be25987",
   "metadata": {},
   "outputs": [],
   "source": [
    "from sklearn.ensemble import BaggingClassifier\n",
    "from sklearn.ensemble import RandomForestClassifier\n",
    "from sklearn.ensemble import AdaBoostClassifier\n",
    "from sklearn.ensemble import GradientBoostingClassifier"
   ]
  },
  {
   "cell_type": "code",
   "execution_count": 15,
   "id": "9df103ed-8023-4990-9ed1-e0ed3d7cf0a9",
   "metadata": {},
   "outputs": [],
   "source": [
    "bag_clf = BaggingClassifier(DecisionTreeClassifier(), n_estimators=30, max_samples=1.0, bootstrap=True, random_state=42)\n",
    "\n",
    "bag_clf_half = BaggingClassifier(DecisionTreeClassifier(), n_estimators=30, max_samples=0.5, bootstrap=True, random_state=42)\n",
    "\n",
    "pasting = BaggingClassifier(DecisionTreeClassifier(), n_estimators=30, max_samples=1.0, bootstrap=False, random_state=42)\n",
    "\n",
    "pasting_half = BaggingClassifier(DecisionTreeClassifier(), n_estimators=30, max_samples=0.5, bootstrap=False, random_state=42)\n",
    "\n",
    "random_forest = RandomForestClassifier(n_estimators=30)\n",
    "\n",
    "ada_boost = AdaBoostClassifier(n_estimators=30)\n",
    "\n",
    "gradient_boosting = GradientBoostingClassifier(n_estimators=30).fit(X_train, y_train)"
   ]
  },
  {
   "cell_type": "code",
   "execution_count": 16,
   "id": "efcc35c7",
   "metadata": {},
   "outputs": [],
   "source": [
    "lista = []\n",
    "classifiers = []\n",
    "for bag in [bag_clf, bag_clf_half, pasting, pasting_half, random_forest, ada_boost, gradient_boosting]:\n",
    "    bag.fit(X_train, y_train)\n",
    "    lista.append((\n",
    "        accuracy_score(y_train, bag.predict(X_train)), accuracy_score(y_test, bag.predict(X_test))\n",
    "    ))\n",
    "    classifiers.append(bag)"
   ]
  },
  {
   "cell_type": "code",
   "execution_count": 17,
   "id": "ce8ef623",
   "metadata": {},
   "outputs": [
    {
     "name": "stdout",
     "output_type": "stream",
     "text": [
      "[(0.9956043956043956, 0.6491228070175439), (0.9208791208791208, 0.6403508771929824), (1.0, 0.6052631578947368), (0.9626373626373627, 0.6754385964912281), (0.9912087912087912, 0.6491228070175439), (0.7912087912087912, 0.6754385964912281), (0.8197802197802198, 0.7280701754385965)]\n"
     ]
    }
   ],
   "source": [
    "file = open(\"acc_bag.pkl\", 'wb')\n",
    "pickle.dump(lista, file)\n",
    "\n",
    "file = open(\"acc_bag.pkl\",'rb')\n",
    "a = pickle.load(file)\n",
    "file.close()\n",
    "print(a)"
   ]
  },
  {
   "cell_type": "code",
   "execution_count": 18,
   "id": "6f25014f",
   "metadata": {},
   "outputs": [
    {
     "name": "stdout",
     "output_type": "stream",
     "text": [
      "[BaggingClassifier(base_estimator=DecisionTreeClassifier(), n_estimators=30,\n",
      "                  random_state=42), BaggingClassifier(base_estimator=DecisionTreeClassifier(), max_samples=0.5,\n",
      "                  n_estimators=30, random_state=42), BaggingClassifier(base_estimator=DecisionTreeClassifier(), bootstrap=False,\n",
      "                  n_estimators=30, random_state=42), BaggingClassifier(base_estimator=DecisionTreeClassifier(), bootstrap=False,\n",
      "                  max_samples=0.5, n_estimators=30, random_state=42), RandomForestClassifier(n_estimators=30), AdaBoostClassifier(n_estimators=30), GradientBoostingClassifier(n_estimators=30)]\n"
     ]
    }
   ],
   "source": [
    "file = open(\"bag.pkl\", 'wb')\n",
    "pickle.dump(classifiers, file)\n",
    "\n",
    "file = open(\"bag.pkl\",'rb')\n",
    "a = pickle.load(file)\n",
    "file.close()\n",
    "print(a)"
   ]
  },
  {
   "cell_type": "code",
   "execution_count": 19,
   "id": "f849147b",
   "metadata": {},
   "outputs": [],
   "source": [
    "X_train, X_test, y_train, y_test = train_test_split(\n",
    "    data_breast_cancer['data'], data_breast_cancer['target'], test_size=0.2)"
   ]
  },
  {
   "cell_type": "code",
   "execution_count": 20,
   "id": "a0250834",
   "metadata": {},
   "outputs": [
    {
     "data": {
      "text/plain": [
       "BaggingClassifier(base_estimator=DecisionTreeClassifier(),\n",
       "                  bootstrap_features=True, max_features=2, max_samples=0.5,\n",
       "                  n_estimators=30)"
      ]
     },
     "execution_count": 20,
     "metadata": {},
     "output_type": "execute_result"
    }
   ],
   "source": [
    "bag = BaggingClassifier(\n",
    "    DecisionTreeClassifier(), n_estimators=30, max_samples=0.5,\n",
    "    bootstrap_features=True, max_features=2)\n",
    "bag.fit(X_train, y_train)"
   ]
  },
  {
   "cell_type": "code",
   "execution_count": 21,
   "id": "74ee09bc",
   "metadata": {},
   "outputs": [
    {
     "name": "stdout",
     "output_type": "stream",
     "text": [
      "[0.9978021978021978, 0.9736842105263158]\n"
     ]
    }
   ],
   "source": [
    "file = open(\"acc_fea.pkl\", 'wb')\n",
    "pickle.dump([accuracy_score(y_train, bag.predict(X_train)), accuracy_score(y_test, bag.predict(X_test))], file)\n",
    "\n",
    "file = open(\"acc_fea.pkl\",'rb')\n",
    "a = pickle.load(file)\n",
    "file.close()\n",
    "print(a)"
   ]
  },
  {
   "cell_type": "code",
   "execution_count": 22,
   "id": "a50bd4ef",
   "metadata": {},
   "outputs": [
    {
     "name": "stdout",
     "output_type": "stream",
     "text": [
      "[BaggingClassifier(base_estimator=DecisionTreeClassifier(),\n",
      "                  bootstrap_features=True, max_features=2, max_samples=0.5,\n",
      "                  n_estimators=30)]\n"
     ]
    }
   ],
   "source": [
    "file = open(\"fea.pkl\", 'wb')\n",
    "pickle.dump([bag], file)\n",
    "\n",
    "file = open(\"fea.pkl\",'rb')\n",
    "a = pickle.load(file)\n",
    "file.close()\n",
    "print(a)"
   ]
  },
  {
   "cell_type": "code",
   "execution_count": 23,
   "id": "90a5fb8e",
   "metadata": {},
   "outputs": [],
   "source": [
    "df = pd.DataFrame({\n",
    "    \"acc train\":[],\n",
    "    \"acc test\":[],\n",
    "    \"features\":[]})\n"
   ]
  },
  {
   "cell_type": "code",
   "execution_count": 24,
   "id": "01992779",
   "metadata": {},
   "outputs": [],
   "source": [
    "for i, e in enumerate(bag.estimators_):\n",
    "    features = data_breast_cancer.feature_names[np.array(bag.estimators_features_[i])]\n",
    "    df_row = pd.DataFrame({\n",
    "        'acc train': [accuracy_score(y_train, e.predict(X_train[features]))],\n",
    "        'acc test': [accuracy_score(y_test, e.predict(X_test[features]))],\n",
    "        'features': [features]\n",
    "    })\n",
    "    df = pd.concat([df, df_row])"
   ]
  },
  {
   "cell_type": "code",
   "execution_count": 25,
   "id": "74d980ed",
   "metadata": {},
   "outputs": [
    {
     "data": {
      "text/html": [
       "<div>\n",
       "<style scoped>\n",
       "    .dataframe tbody tr th:only-of-type {\n",
       "        vertical-align: middle;\n",
       "    }\n",
       "\n",
       "    .dataframe tbody tr th {\n",
       "        vertical-align: top;\n",
       "    }\n",
       "\n",
       "    .dataframe thead th {\n",
       "        text-align: right;\n",
       "    }\n",
       "</style>\n",
       "<table border=\"1\" class=\"dataframe\">\n",
       "  <thead>\n",
       "    <tr style=\"text-align: right;\">\n",
       "      <th></th>\n",
       "      <th>acc train</th>\n",
       "      <th>acc test</th>\n",
       "      <th>features</th>\n",
       "    </tr>\n",
       "  </thead>\n",
       "  <tbody>\n",
       "    <tr>\n",
       "      <th>0</th>\n",
       "      <td>0.936264</td>\n",
       "      <td>0.921053</td>\n",
       "      <td>[worst area, mean concavity]</td>\n",
       "    </tr>\n",
       "    <tr>\n",
       "      <th>0</th>\n",
       "      <td>0.942857</td>\n",
       "      <td>0.912281</td>\n",
       "      <td>[mean perimeter, worst smoothness]</td>\n",
       "    </tr>\n",
       "    <tr>\n",
       "      <th>0</th>\n",
       "      <td>0.927473</td>\n",
       "      <td>0.903509</td>\n",
       "      <td>[worst radius, fractal dimension error]</td>\n",
       "    </tr>\n",
       "    <tr>\n",
       "      <th>0</th>\n",
       "      <td>0.920879</td>\n",
       "      <td>0.903509</td>\n",
       "      <td>[fractal dimension error, worst radius]</td>\n",
       "    </tr>\n",
       "    <tr>\n",
       "      <th>0</th>\n",
       "      <td>0.896703</td>\n",
       "      <td>0.894737</td>\n",
       "      <td>[mean area, mean smoothness]</td>\n",
       "    </tr>\n",
       "    <tr>\n",
       "      <th>0</th>\n",
       "      <td>0.934066</td>\n",
       "      <td>0.885965</td>\n",
       "      <td>[worst texture, worst concave points]</td>\n",
       "    </tr>\n",
       "    <tr>\n",
       "      <th>0</th>\n",
       "      <td>0.942857</td>\n",
       "      <td>0.877193</td>\n",
       "      <td>[worst fractal dimension, worst concave points]</td>\n",
       "    </tr>\n",
       "    <tr>\n",
       "      <th>0</th>\n",
       "      <td>0.923077</td>\n",
       "      <td>0.877193</td>\n",
       "      <td>[worst texture, mean radius]</td>\n",
       "    </tr>\n",
       "    <tr>\n",
       "      <th>0</th>\n",
       "      <td>0.920879</td>\n",
       "      <td>0.877193</td>\n",
       "      <td>[mean radius, mean concavity]</td>\n",
       "    </tr>\n",
       "    <tr>\n",
       "      <th>0</th>\n",
       "      <td>0.929670</td>\n",
       "      <td>0.877193</td>\n",
       "      <td>[worst perimeter, perimeter error]</td>\n",
       "    </tr>\n",
       "    <tr>\n",
       "      <th>0</th>\n",
       "      <td>0.890110</td>\n",
       "      <td>0.868421</td>\n",
       "      <td>[mean area, perimeter error]</td>\n",
       "    </tr>\n",
       "    <tr>\n",
       "      <th>0</th>\n",
       "      <td>0.927473</td>\n",
       "      <td>0.859649</td>\n",
       "      <td>[radius error, mean perimeter]</td>\n",
       "    </tr>\n",
       "    <tr>\n",
       "      <th>0</th>\n",
       "      <td>0.914286</td>\n",
       "      <td>0.859649</td>\n",
       "      <td>[concave points error, mean perimeter]</td>\n",
       "    </tr>\n",
       "    <tr>\n",
       "      <th>0</th>\n",
       "      <td>0.934066</td>\n",
       "      <td>0.859649</td>\n",
       "      <td>[mean compactness, worst perimeter]</td>\n",
       "    </tr>\n",
       "    <tr>\n",
       "      <th>0</th>\n",
       "      <td>0.898901</td>\n",
       "      <td>0.859649</td>\n",
       "      <td>[mean area, fractal dimension error]</td>\n",
       "    </tr>\n",
       "    <tr>\n",
       "      <th>0</th>\n",
       "      <td>0.896703</td>\n",
       "      <td>0.842105</td>\n",
       "      <td>[worst symmetry, mean concavity]</td>\n",
       "    </tr>\n",
       "    <tr>\n",
       "      <th>0</th>\n",
       "      <td>0.894505</td>\n",
       "      <td>0.833333</td>\n",
       "      <td>[mean area, mean area]</td>\n",
       "    </tr>\n",
       "    <tr>\n",
       "      <th>0</th>\n",
       "      <td>0.938462</td>\n",
       "      <td>0.833333</td>\n",
       "      <td>[worst texture, mean concavity]</td>\n",
       "    </tr>\n",
       "    <tr>\n",
       "      <th>0</th>\n",
       "      <td>0.894505</td>\n",
       "      <td>0.824561</td>\n",
       "      <td>[mean smoothness, mean concavity]</td>\n",
       "    </tr>\n",
       "    <tr>\n",
       "      <th>0</th>\n",
       "      <td>0.892308</td>\n",
       "      <td>0.815789</td>\n",
       "      <td>[mean perimeter, mean perimeter]</td>\n",
       "    </tr>\n",
       "    <tr>\n",
       "      <th>0</th>\n",
       "      <td>0.898901</td>\n",
       "      <td>0.815789</td>\n",
       "      <td>[area error, mean symmetry]</td>\n",
       "    </tr>\n",
       "    <tr>\n",
       "      <th>0</th>\n",
       "      <td>0.868132</td>\n",
       "      <td>0.807018</td>\n",
       "      <td>[compactness error, mean radius]</td>\n",
       "    </tr>\n",
       "    <tr>\n",
       "      <th>0</th>\n",
       "      <td>0.905495</td>\n",
       "      <td>0.798246</td>\n",
       "      <td>[worst compactness, radius error]</td>\n",
       "    </tr>\n",
       "    <tr>\n",
       "      <th>0</th>\n",
       "      <td>0.903297</td>\n",
       "      <td>0.780702</td>\n",
       "      <td>[mean area, perimeter error]</td>\n",
       "    </tr>\n",
       "    <tr>\n",
       "      <th>0</th>\n",
       "      <td>0.824176</td>\n",
       "      <td>0.780702</td>\n",
       "      <td>[concavity error, worst texture]</td>\n",
       "    </tr>\n",
       "    <tr>\n",
       "      <th>0</th>\n",
       "      <td>0.795604</td>\n",
       "      <td>0.754386</td>\n",
       "      <td>[compactness error, worst compactness]</td>\n",
       "    </tr>\n",
       "    <tr>\n",
       "      <th>0</th>\n",
       "      <td>0.859341</td>\n",
       "      <td>0.745614</td>\n",
       "      <td>[worst texture, worst compactness]</td>\n",
       "    </tr>\n",
       "    <tr>\n",
       "      <th>0</th>\n",
       "      <td>0.852747</td>\n",
       "      <td>0.692982</td>\n",
       "      <td>[mean texture, concavity error]</td>\n",
       "    </tr>\n",
       "    <tr>\n",
       "      <th>0</th>\n",
       "      <td>0.789011</td>\n",
       "      <td>0.640351</td>\n",
       "      <td>[fractal dimension error, worst fractal dimens...</td>\n",
       "    </tr>\n",
       "    <tr>\n",
       "      <th>0</th>\n",
       "      <td>0.760440</td>\n",
       "      <td>0.552632</td>\n",
       "      <td>[mean smoothness, fractal dimension error]</td>\n",
       "    </tr>\n",
       "  </tbody>\n",
       "</table>\n",
       "</div>"
      ],
      "text/plain": [
       "   acc train  acc test                                           features\n",
       "0   0.936264  0.921053                       [worst area, mean concavity]\n",
       "0   0.942857  0.912281                 [mean perimeter, worst smoothness]\n",
       "0   0.927473  0.903509            [worst radius, fractal dimension error]\n",
       "0   0.920879  0.903509            [fractal dimension error, worst radius]\n",
       "0   0.896703  0.894737                       [mean area, mean smoothness]\n",
       "0   0.934066  0.885965              [worst texture, worst concave points]\n",
       "0   0.942857  0.877193    [worst fractal dimension, worst concave points]\n",
       "0   0.923077  0.877193                       [worst texture, mean radius]\n",
       "0   0.920879  0.877193                      [mean radius, mean concavity]\n",
       "0   0.929670  0.877193                 [worst perimeter, perimeter error]\n",
       "0   0.890110  0.868421                       [mean area, perimeter error]\n",
       "0   0.927473  0.859649                     [radius error, mean perimeter]\n",
       "0   0.914286  0.859649             [concave points error, mean perimeter]\n",
       "0   0.934066  0.859649                [mean compactness, worst perimeter]\n",
       "0   0.898901  0.859649               [mean area, fractal dimension error]\n",
       "0   0.896703  0.842105                   [worst symmetry, mean concavity]\n",
       "0   0.894505  0.833333                             [mean area, mean area]\n",
       "0   0.938462  0.833333                    [worst texture, mean concavity]\n",
       "0   0.894505  0.824561                  [mean smoothness, mean concavity]\n",
       "0   0.892308  0.815789                   [mean perimeter, mean perimeter]\n",
       "0   0.898901  0.815789                        [area error, mean symmetry]\n",
       "0   0.868132  0.807018                   [compactness error, mean radius]\n",
       "0   0.905495  0.798246                  [worst compactness, radius error]\n",
       "0   0.903297  0.780702                       [mean area, perimeter error]\n",
       "0   0.824176  0.780702                   [concavity error, worst texture]\n",
       "0   0.795604  0.754386             [compactness error, worst compactness]\n",
       "0   0.859341  0.745614                 [worst texture, worst compactness]\n",
       "0   0.852747  0.692982                    [mean texture, concavity error]\n",
       "0   0.789011  0.640351  [fractal dimension error, worst fractal dimens...\n",
       "0   0.760440  0.552632         [mean smoothness, fractal dimension error]"
      ]
     },
     "execution_count": 25,
     "metadata": {},
     "output_type": "execute_result"
    }
   ],
   "source": [
    "df.sort_values(by='acc train', ascending=False, inplace=True)\n",
    "df.sort_values(by='acc test', ascending=False, inplace=True)\n",
    "df"
   ]
  },
  {
   "cell_type": "code",
   "execution_count": 26,
   "id": "61d51d17",
   "metadata": {},
   "outputs": [
    {
     "name": "stdout",
     "output_type": "stream",
     "text": [
      "   acc train  acc test                                           features\n",
      "0   0.936264  0.921053                       [worst area, mean concavity]\n",
      "0   0.942857  0.912281                 [mean perimeter, worst smoothness]\n",
      "0   0.927473  0.903509            [worst radius, fractal dimension error]\n",
      "0   0.920879  0.903509            [fractal dimension error, worst radius]\n",
      "0   0.896703  0.894737                       [mean area, mean smoothness]\n",
      "0   0.934066  0.885965              [worst texture, worst concave points]\n",
      "0   0.942857  0.877193    [worst fractal dimension, worst concave points]\n",
      "0   0.923077  0.877193                       [worst texture, mean radius]\n",
      "0   0.920879  0.877193                      [mean radius, mean concavity]\n",
      "0   0.929670  0.877193                 [worst perimeter, perimeter error]\n",
      "0   0.890110  0.868421                       [mean area, perimeter error]\n",
      "0   0.927473  0.859649                     [radius error, mean perimeter]\n",
      "0   0.914286  0.859649             [concave points error, mean perimeter]\n",
      "0   0.934066  0.859649                [mean compactness, worst perimeter]\n",
      "0   0.898901  0.859649               [mean area, fractal dimension error]\n",
      "0   0.896703  0.842105                   [worst symmetry, mean concavity]\n",
      "0   0.894505  0.833333                             [mean area, mean area]\n",
      "0   0.938462  0.833333                    [worst texture, mean concavity]\n",
      "0   0.894505  0.824561                  [mean smoothness, mean concavity]\n",
      "0   0.892308  0.815789                   [mean perimeter, mean perimeter]\n",
      "0   0.898901  0.815789                        [area error, mean symmetry]\n",
      "0   0.868132  0.807018                   [compactness error, mean radius]\n",
      "0   0.905495  0.798246                  [worst compactness, radius error]\n",
      "0   0.903297  0.780702                       [mean area, perimeter error]\n",
      "0   0.824176  0.780702                   [concavity error, worst texture]\n",
      "0   0.795604  0.754386             [compactness error, worst compactness]\n",
      "0   0.859341  0.745614                 [worst texture, worst compactness]\n",
      "0   0.852747  0.692982                    [mean texture, concavity error]\n",
      "0   0.789011  0.640351  [fractal dimension error, worst fractal dimens...\n",
      "0   0.760440  0.552632         [mean smoothness, fractal dimension error]\n"
     ]
    }
   ],
   "source": [
    "file = open(\"acc_fea_rank.pkl\", 'wb')\n",
    "pickle.dump(df, file)\n",
    "    \n",
    "file = open(\"acc_fea_rank.pkl\",'rb')\n",
    "a = pickle.load(file)\n",
    "file.close()\n",
    "print(a)\n"
   ]
  },
  {
   "cell_type": "code",
   "execution_count": null,
   "id": "940e6b45",
   "metadata": {},
   "outputs": [],
   "source": []
  },
  {
   "cell_type": "code",
   "execution_count": null,
   "id": "d2555ffe",
   "metadata": {},
   "outputs": [],
   "source": []
  }
 ],
 "metadata": {
  "kernelspec": {
   "display_name": "Python 3 (ipykernel)",
   "language": "python",
   "name": "python3"
  },
  "language_info": {
   "codemirror_mode": {
    "name": "ipython",
    "version": 3
   },
   "file_extension": ".py",
   "mimetype": "text/x-python",
   "name": "python",
   "nbconvert_exporter": "python",
   "pygments_lexer": "ipython3",
   "version": "3.9.7"
  }
 },
 "nbformat": 4,
 "nbformat_minor": 5
}
