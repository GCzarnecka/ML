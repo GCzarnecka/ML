{
 "cells": [
  {
   "cell_type": "code",
   "execution_count": 1,
   "id": "e8cffae8-7647-4939-8362-c387d03a6079",
   "metadata": {},
   "outputs": [],
   "source": [
    "from sklearn.datasets import fetch_openml\n",
    "import numpy as np\n",
    "mnist = fetch_openml('mnist_784', version=1, as_frame=False)\n",
    "mnist.target = mnist.target.astype(np.uint8)\n",
    "X = mnist[\"data\"]\n",
    "y = mnist[\"target\"]"
   ]
  },
  {
   "cell_type": "code",
   "execution_count": 2,
   "id": "50bd3ada-974a-4af5-b760-1e355affc93b",
   "metadata": {},
   "outputs": [],
   "source": [
    "from sklearn.cluster import KMeans \n",
    "from sklearn.metrics import silhouette_score"
   ]
  },
  {
   "cell_type": "code",
   "execution_count": 3,
   "id": "7b0a3976-c29a-4d0f-b1b5-3109185edf2e",
   "metadata": {},
   "outputs": [
    {
     "name": "stdout",
     "output_type": "stream",
     "text": [
      "0.07338401965925966\n",
      "0.05683381826333592\n",
      "0.05869201052848778\n",
      "0.05836351154790604\n",
      "0.05894738457992754\n"
     ]
    }
   ],
   "source": [
    "lista =[]\n",
    "for k in range(8,13):\n",
    "    kmeans = KMeans(n_clusters=k, random_state=42)\n",
    "    y_pred = kmeans.fit_predict(X)\n",
    "    lista.append(silhouette_score(X, kmeans.labels_))\n",
    "    print(silhouette_score(X, kmeans.labels_))"
   ]
  },
  {
   "cell_type": "code",
   "execution_count": 4,
   "id": "980ca437-d776-45a3-aebd-a3632f3aea64",
   "metadata": {},
   "outputs": [],
   "source": [
    "import pickle\n",
    "file = open(\"kmeans_sil.pkl\",\"wb\")\n",
    "pickle.dump(lista, file)"
   ]
  },
  {
   "cell_type": "code",
   "execution_count": 5,
   "id": "ff05532b",
   "metadata": {},
   "outputs": [
    {
     "name": "stdout",
     "output_type": "stream",
     "text": [
      "[0.07338401965925966, 0.05683381826333592, 0.05869201052848778, 0.05836351154790604, 0.05894738457992754]\n"
     ]
    }
   ],
   "source": [
    "file = open(\"kmeans_sil.pkl\",\"rb\")\n",
    "a = pickle.load(file)\n",
    "file.close()\n",
    "print(a)"
   ]
  },
  {
   "cell_type": "code",
   "execution_count": 6,
   "id": "9a158ccf-9493-4f57-aa26-67999e044248",
   "metadata": {},
   "outputs": [],
   "source": [
    "kmeans = KMeans(n_clusters=10, random_state=42)\n",
    "y_pred = kmeans.fit_predict(X)"
   ]
  },
  {
   "cell_type": "code",
   "execution_count": 7,
   "id": "f0a7a05a-a933-4741-9fc3-b15e19e4d0eb",
   "metadata": {},
   "outputs": [
    {
     "data": {
      "text/plain": [
       "array([8, 9, 3, ..., 5, 2, 6])"
      ]
     },
     "execution_count": 7,
     "metadata": {},
     "output_type": "execute_result"
    }
   ],
   "source": [
    "kmeans.labels_"
   ]
  },
  {
   "cell_type": "code",
   "execution_count": 8,
   "id": "88512737-1616-422f-a78a-d528b07c2dd3",
   "metadata": {},
   "outputs": [
    {
     "name": "stdout",
     "output_type": "stream",
     "text": [
      "[[ 290    2 1265   39    9    7  162    4   72 5053]\n",
      " [   8 4293    7    7   10   11    7 3526    8    0]\n",
      " [ 323  423  246  216 4863   78  147  436  201   57]\n",
      " [4581  449  461  193  216   45   31   58 1083   24]\n",
      " [   0  178  288 3728   29 2173  168  234   17    9]\n",
      " [2129  155 1812  432    7  215   67  280 1156   60]\n",
      " [  38  190 2068   67   53    4 4326   45   14   71]\n",
      " [   6  372   12 2094   53 4399    4  314   18   21]\n",
      " [1212  335  292  208   53  193   51  330 4115   36]\n",
      " [  87  261   31 3462   19 2849   16   95   87   51]]\n"
     ]
    }
   ],
   "source": [
    "from sklearn.metrics import confusion_matrix\n",
    "cf = confusion_matrix(y, y_pred)\n",
    "print(cf)"
   ]
  },
  {
   "cell_type": "code",
   "execution_count": 9,
   "id": "d84b7ae0-6cc0-4d24-8ac4-b8a9b0cf6880",
   "metadata": {},
   "outputs": [
    {
     "name": "stdout",
     "output_type": "stream",
     "text": [
      "[8 9 3 ... 5 2 6]\n",
      "[5 0 4 ... 4 5 6]\n"
     ]
    }
   ],
   "source": [
    "print(y_pred)\n",
    "print(y)"
   ]
  },
  {
   "cell_type": "code",
   "execution_count": 10,
   "id": "eea8eb4a-c059-4fd4-ae29-fffdf10e5d3c",
   "metadata": {},
   "outputs": [],
   "source": [
    "lista2 = []\n",
    "for i in cf:\n",
    "    lista2.append(i[i.argmax()])\n",
    "lista2 = list(set(lista2))\n",
    "lista2.sort(reverse=True)"
   ]
  },
  {
   "cell_type": "code",
   "execution_count": 11,
   "id": "c967dc48-43a0-43f5-a98c-00243abf731d",
   "metadata": {},
   "outputs": [
    {
     "name": "stdout",
     "output_type": "stream",
     "text": [
      "[5053, 4863, 4581, 4399, 4326, 4293, 4115, 3728, 3462, 2129]\n"
     ]
    }
   ],
   "source": [
    "print(lista2)"
   ]
  },
  {
   "cell_type": "code",
   "execution_count": 12,
   "id": "31832a6e",
   "metadata": {},
   "outputs": [],
   "source": [
    "file = open(\"kmeans_argmax.pkl\",\"wb\")\n",
    "pickle.dump(lista2, file)"
   ]
  },
  {
   "cell_type": "code",
   "execution_count": 13,
   "id": "905a78b7",
   "metadata": {},
   "outputs": [
    {
     "name": "stdout",
     "output_type": "stream",
     "text": [
      "[5053, 4863, 4581, 4399, 4326, 4293, 4115, 3728, 3462, 2129]\n"
     ]
    }
   ],
   "source": [
    "file = open(\"kmeans_argmax.pkl\",\"rb\")\n",
    "a = pickle.load(file)\n",
    "file.close()\n",
    "print(a)"
   ]
  },
  {
   "cell_type": "code",
   "execution_count": 14,
   "id": "c1014d39",
   "metadata": {},
   "outputs": [],
   "source": [
    "from sklearn.cluster import DBSCAN"
   ]
  },
  {
   "cell_type": "code",
   "execution_count": 15,
   "id": "6ddb2cc3-2d88-4bf5-b80d-b37d016a199e",
   "metadata": {},
   "outputs": [],
   "source": [
    "lista3 = []\n",
    "lista4 =[]\n",
    "for i in range(0, 300):\n",
    "    for j in range(0, 300):\n",
    "        if i != j:\n",
    "            lista3.append(np.linalg.norm(X[i]-X[j]))\n",
    "lista3.sort()\n",
    "lista4 = lista3[:10]\n",
    "lista4.sort(reverse = True)"
   ]
  },
  {
   "cell_type": "code",
   "execution_count": 16,
   "id": "bc49bf39",
   "metadata": {},
   "outputs": [],
   "source": [
    "file = open(\"dist.pkl\",\"wb\")\n",
    "pickle.dump(lista4, file)"
   ]
  },
  {
   "cell_type": "code",
   "execution_count": 17,
   "id": "edf49e63",
   "metadata": {},
   "outputs": [
    {
     "name": "stdout",
     "output_type": "stream",
     "text": [
      "[638.4520342202694, 638.4520342202694, 638.289902787127, 638.289902787127, 636.2460215985637, 636.2460215985637, 524.325280717991, 524.325280717991, 419.583126448145, 419.583126448145]\n"
     ]
    }
   ],
   "source": [
    "file = open(\"dist.pkl\",\"rb\")\n",
    "a = pickle.load(file)\n",
    "file.close()\n",
    "print(a)"
   ]
  },
  {
   "cell_type": "code",
   "execution_count": 18,
   "id": "65b81f55-b63d-4fde-89c5-0e00ab5445d9",
   "metadata": {},
   "outputs": [
    {
     "name": "stdout",
     "output_type": "stream",
     "text": [
      "454.4971778714269\n"
     ]
    }
   ],
   "source": [
    "lista4.sort()\n",
    "s = (lista4[0] + lista4[1] + lista4[2]) / 3.0\n",
    "print(s)"
   ]
  },
  {
   "cell_type": "code",
   "execution_count": 19,
   "id": "393cb0ac-4826-447e-a647-8b89f2143584",
   "metadata": {},
   "outputs": [],
   "source": [
    "lista5 = []\n",
    "i = s\n",
    "while i <=  s + 0.1 * s:\n",
    "    dbscan = DBSCAN(eps = i)\n",
    "    dbscan.fit(X)\n",
    "    lista5.append(len(set(dbscan.labels_)))\n",
    "    i += i * 0.04"
   ]
  },
  {
   "cell_type": "code",
   "execution_count": 20,
   "id": "da5a5e45",
   "metadata": {},
   "outputs": [
    {
     "name": "stdout",
     "output_type": "stream",
     "text": [
      "[23, 23, 17]\n"
     ]
    }
   ],
   "source": [
    "print(lista5)"
   ]
  },
  {
   "cell_type": "code",
   "execution_count": 21,
   "id": "be134e91",
   "metadata": {},
   "outputs": [],
   "source": [
    "file = open(\"dbscan_len.pkl\",\"wb\")\n",
    "pickle.dump(lista5, file)"
   ]
  },
  {
   "cell_type": "code",
   "execution_count": 22,
   "id": "0d517150",
   "metadata": {},
   "outputs": [
    {
     "name": "stdout",
     "output_type": "stream",
     "text": [
      "[23, 23, 17]\n"
     ]
    }
   ],
   "source": [
    "file = open(\"dbscan_len.pkl\",\"rb\")\n",
    "a = pickle.load(file)\n",
    "file.close()\n",
    "print(a)"
   ]
  },
  {
   "cell_type": "code",
   "execution_count": null,
   "id": "354f2e4a-b08b-4c96-b6ac-3dac2fbe2efa",
   "metadata": {},
   "outputs": [],
   "source": []
  },
  {
   "cell_type": "code",
   "execution_count": null,
   "id": "29c4c01f-1ae9-4d45-ac82-6dd44323c9fe",
   "metadata": {},
   "outputs": [],
   "source": []
  },
  {
   "cell_type": "code",
   "execution_count": null,
   "id": "9d1d6c74-d867-4806-80b7-77a724d53047",
   "metadata": {},
   "outputs": [],
   "source": []
  }
 ],
 "metadata": {
  "kernelspec": {
   "display_name": "Python 3 (ipykernel)",
   "language": "python",
   "name": "python3"
  },
  "language_info": {
   "codemirror_mode": {
    "name": "ipython",
    "version": 3
   },
   "file_extension": ".py",
   "mimetype": "text/x-python",
   "name": "python",
   "nbconvert_exporter": "python",
   "pygments_lexer": "ipython3",
   "version": "3.9.7"
  }
 },
 "nbformat": 4,
 "nbformat_minor": 5
}
