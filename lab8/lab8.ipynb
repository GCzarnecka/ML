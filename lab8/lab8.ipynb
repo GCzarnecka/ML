{
 "cells": [
  {
   "cell_type": "code",
   "execution_count": 411,
   "id": "2a42ff34-2633-42bf-b7cc-19e3611644a4",
   "metadata": {},
   "outputs": [],
   "source": [
    "from sklearn import datasets\n",
    "data_breast_cancer = datasets.load_breast_cancer()"
   ]
  },
  {
   "cell_type": "code",
   "execution_count": 412,
   "id": "1772761c-4d20-4c75-b5b6-9a084747f3ee",
   "metadata": {},
   "outputs": [],
   "source": [
    "from sklearn.datasets import load_iris\n",
    "data_iris = load_iris()"
   ]
  },
  {
   "cell_type": "code",
   "execution_count": 413,
   "id": "78039c2d-e745-4860-98fd-214d9d4318f3",
   "metadata": {},
   "outputs": [],
   "source": [
    "import numpy as np\n",
    "from sklearn.decomposition import PCA\n",
    "import pickle"
   ]
  },
  {
   "cell_type": "code",
   "execution_count": 414,
   "id": "b457f537-50cb-4eaf-98d2-14731631ef52",
   "metadata": {},
   "outputs": [],
   "source": [
    "from sklearn.preprocessing import StandardScaler\n",
    "scaler = StandardScaler()\n",
    "bc_scaled = scaler.fit_transform(data_breast_cancer.data)"
   ]
  },
  {
   "cell_type": "code",
   "execution_count": 415,
   "id": "d958caee-cd2f-4b54-9d46-8b3785bbf0fe",
   "metadata": {},
   "outputs": [],
   "source": [
    "pca_bc = PCA(n_components = 0.9)\n",
    "bc = pca_bc.fit_transform(bc_scaled)"
   ]
  },
  {
   "cell_type": "code",
   "execution_count": 416,
   "id": "e9c9a688",
   "metadata": {},
   "outputs": [
    {
     "name": "stdout",
     "output_type": "stream",
     "text": [
      "[0.44272026 0.18971182 0.09393163 0.06602135 0.05495768 0.04024522\n",
      " 0.02250734]\n"
     ]
    }
   ],
   "source": [
    "file = open(\"pca_bc.pkl\", 'wb')\n",
    "pickle.dump(pca_bc.explained_variance_ratio_, file)\n",
    "    \n",
    "file = open(\"pca_bc.pkl\",'rb')\n",
    "a = pickle.load(file)\n",
    "file.close()\n",
    "print(a)"
   ]
  },
  {
   "cell_type": "code",
   "execution_count": 417,
   "id": "3fc6d631-ed6d-48d0-924d-db60d21c5f4f",
   "metadata": {},
   "outputs": [],
   "source": [
    "idx_bc = [np.argmax(row) for row in pca_bc.components_]"
   ]
  },
  {
   "cell_type": "code",
   "execution_count": 418,
   "id": "78f5d87f",
   "metadata": {},
   "outputs": [
    {
     "name": "stdout",
     "output_type": "stream",
     "text": [
      "[7, 9, 11, 4, 16, 28, 29]\n"
     ]
    }
   ],
   "source": [
    "file = open(\"idx_bc.pkl\", 'wb')\n",
    "pickle.dump(idx_bc, file)\n",
    "    \n",
    "file = open(\"idx_bc.pkl\",'rb')\n",
    "a = pickle.load(file)\n",
    "file.close()\n",
    "print(a)"
   ]
  },
  {
   "cell_type": "code",
   "execution_count": 419,
   "id": "909f8281-21c1-40a3-b318-6dad7dea4719",
   "metadata": {},
   "outputs": [],
   "source": [
    "ir_scaled = scaler.fit_transform(data_iris.data)"
   ]
  },
  {
   "cell_type": "code",
   "execution_count": 420,
   "id": "e54ef2cd",
   "metadata": {},
   "outputs": [],
   "source": [
    "pca_ir = PCA(n_components = 0.9)\n",
    "ir = pca_ir.fit_transform(ir_scaled)"
   ]
  },
  {
   "cell_type": "code",
   "execution_count": 421,
   "id": "c8f26a4d",
   "metadata": {},
   "outputs": [
    {
     "name": "stdout",
     "output_type": "stream",
     "text": [
      "[0.72962445 0.22850762]\n"
     ]
    }
   ],
   "source": [
    "file = open(\"pca_ir.pkl\", 'wb')\n",
    "pickle.dump(pca_ir.explained_variance_ratio_, file)\n",
    "    \n",
    "file = open(\"pca_ir.pkl\",'rb')\n",
    "a = pickle.load(file)\n",
    "file.close()\n",
    "print(a)"
   ]
  },
  {
   "cell_type": "code",
   "execution_count": 422,
   "id": "29f9e907",
   "metadata": {},
   "outputs": [],
   "source": [
    "idx_ir = [np.argmax(row) for row in pca_ir.components_]"
   ]
  },
  {
   "cell_type": "code",
   "execution_count": 423,
   "id": "72d7eb36",
   "metadata": {},
   "outputs": [
    {
     "name": "stdout",
     "output_type": "stream",
     "text": [
      "[2, 1]\n"
     ]
    }
   ],
   "source": [
    "file = open(\"idx_ir.pkl\", 'wb')\n",
    "pickle.dump(idx_ir, file)\n",
    "    \n",
    "file = open(\"idx_ir.pkl\",'rb')\n",
    "a = pickle.load(file)\n",
    "file.close()\n",
    "print(a)"
   ]
  },
  {
   "cell_type": "code",
   "execution_count": null,
   "id": "fa4a9126",
   "metadata": {},
   "outputs": [],
   "source": []
  },
  {
   "cell_type": "code",
   "execution_count": null,
   "id": "3dc6d0cb",
   "metadata": {},
   "outputs": [],
   "source": []
  },
  {
   "cell_type": "code",
   "execution_count": null,
   "id": "30567c58",
   "metadata": {},
   "outputs": [],
   "source": []
  }
 ],
 "metadata": {
  "kernelspec": {
   "display_name": "Python 3 (ipykernel)",
   "language": "python",
   "name": "python3"
  },
  "language_info": {
   "codemirror_mode": {
    "name": "ipython",
    "version": 3
   },
   "file_extension": ".py",
   "mimetype": "text/x-python",
   "name": "python",
   "nbconvert_exporter": "python",
   "pygments_lexer": "ipython3",
   "version": "3.9.7"
  }
 },
 "nbformat": 4,
 "nbformat_minor": 5
}
